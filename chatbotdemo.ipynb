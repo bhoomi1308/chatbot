{
  "nbformat": 4,
  "nbformat_minor": 0,
  "metadata": {
    "colab": {
      "name": "Untitled2.ipynb",
      "provenance": [],
      "collapsed_sections": []
    },
    "kernelspec": {
      "name": "python3",
      "display_name": "Python 3"
    }
  },
  "cells": [
    {
      "cell_type": "code",
      "metadata": {
        "id": "RbYdC06zxcur",
        "colab": {
          "base_uri": "https://localhost:8080/"
        },
        "outputId": "8168b0cd-3670-4073-b22b-0658f4481fbb"
      },
      "source": [
        "pip install chatterbot"
      ],
      "execution_count": 1,
      "outputs": [
        {
          "output_type": "stream",
          "text": [
            "Collecting chatterbot\n",
            "\u001b[?25l  Downloading https://files.pythonhosted.org/packages/7c/21/85c2b114bd9dfabdd46ba58fc4519acdaed45d8c70898d40079e37a45e67/ChatterBot-1.0.8-py2.py3-none-any.whl (63kB)\n",
            "\r\u001b[K     |█████▏                          | 10kB 14.5MB/s eta 0:00:01\r\u001b[K     |██████████▎                     | 20kB 19.7MB/s eta 0:00:01\r\u001b[K     |███████████████▌                | 30kB 13.7MB/s eta 0:00:01\r\u001b[K     |████████████████████▋           | 40kB 9.1MB/s eta 0:00:01\r\u001b[K     |█████████████████████████▊      | 51kB 7.4MB/s eta 0:00:01\r\u001b[K     |███████████████████████████████ | 61kB 8.5MB/s eta 0:00:01\r\u001b[K     |████████████████████████████████| 71kB 4.2MB/s \n",
            "\u001b[?25hCollecting mathparse<0.2,>=0.1\n",
            "  Downloading https://files.pythonhosted.org/packages/c3/e5/4910fb85950cb960fcf3f5aabe1c8e55f5c9201788a1c1302b570a7e1f84/mathparse-0.1.2-py3-none-any.whl\n",
            "Requirement already satisfied: sqlalchemy<1.4,>=1.3 in /usr/local/lib/python3.7/dist-packages (from chatterbot) (1.3.23)\n",
            "Requirement already satisfied: pytz in /usr/local/lib/python3.7/dist-packages (from chatterbot) (2018.9)\n",
            "Requirement already satisfied: python-dateutil<2.9,>=2.8 in /usr/local/lib/python3.7/dist-packages (from chatterbot) (2.8.1)\n",
            "Requirement already satisfied: six>=1.5 in /usr/local/lib/python3.7/dist-packages (from python-dateutil<2.9,>=2.8->chatterbot) (1.15.0)\n",
            "Installing collected packages: mathparse, chatterbot\n",
            "Successfully installed chatterbot-1.0.8 mathparse-0.1.2\n"
          ],
          "name": "stdout"
        }
      ]
    },
    {
      "cell_type": "code",
      "metadata": {
        "id": "ObeRpvinxmpA",
        "colab": {
          "base_uri": "https://localhost:8080/"
        },
        "outputId": "dfc8155a-4146-49c9-efe9-2284c233fcd6"
      },
      "source": [
        "pip install chatterbot_corpus"
      ],
      "execution_count": 2,
      "outputs": [
        {
          "output_type": "stream",
          "text": [
            "Collecting chatterbot_corpus\n",
            "\u001b[?25l  Downloading https://files.pythonhosted.org/packages/ed/19/f8b41daf36fe4b0f43e283a820362ffdb2c1128600ab4ee187e84262fa4d/chatterbot_corpus-1.2.0-py2.py3-none-any.whl (117kB)\n",
            "\r\u001b[K     |██▉                             | 10kB 11.2MB/s eta 0:00:01\r\u001b[K     |█████▋                          | 20kB 15.7MB/s eta 0:00:01\r\u001b[K     |████████▍                       | 30kB 15.1MB/s eta 0:00:01\r\u001b[K     |███████████▏                    | 40kB 10.4MB/s eta 0:00:01\r\u001b[K     |██████████████                  | 51kB 7.9MB/s eta 0:00:01\r\u001b[K     |████████████████▊               | 61kB 7.3MB/s eta 0:00:01\r\u001b[K     |███████████████████▋            | 71kB 7.3MB/s eta 0:00:01\r\u001b[K     |██████████████████████▍         | 81kB 7.5MB/s eta 0:00:01\r\u001b[K     |█████████████████████████▏      | 92kB 7.1MB/s eta 0:00:01\r\u001b[K     |████████████████████████████    | 102kB 7.2MB/s eta 0:00:01\r\u001b[K     |██████████████████████████████▊ | 112kB 7.2MB/s eta 0:00:01\r\u001b[K     |████████████████████████████████| 122kB 7.2MB/s \n",
            "\u001b[?25hRequirement already satisfied: PyYAML<4.0,>=3.12 in /usr/local/lib/python3.7/dist-packages (from chatterbot_corpus) (3.13)\n",
            "Installing collected packages: chatterbot-corpus\n",
            "Successfully installed chatterbot-corpus-1.2.0\n"
          ],
          "name": "stdout"
        }
      ]
    },
    {
      "cell_type": "code",
      "metadata": {
        "id": "hSthMWbsxsRS"
      },
      "source": [
        "from chatterbot import ChatBot\n",
        "import nltk"
      ],
      "execution_count": 3,
      "outputs": []
    },
    {
      "cell_type": "code",
      "metadata": {
        "id": "i9HBSECcx0e7"
      },
      "source": [
        "bot=ChatBot('buddy')"
      ],
      "execution_count": 4,
      "outputs": []
    },
    {
      "cell_type": "code",
      "metadata": {
        "id": "Pq6TU70JyNgO",
        "colab": {
          "base_uri": "https://localhost:8080/"
        },
        "outputId": "dbc23a1d-a999-41c2-9563-02e901d81be2"
      },
      "source": [
        "#POS tagging with averraged structued perceptron\n",
        "nltk.download('averaged_perceptron_tagger')"
      ],
      "execution_count": 5,
      "outputs": [
        {
          "output_type": "stream",
          "text": [
            "[nltk_data] Downloading package averaged_perceptron_tagger to\n",
            "[nltk_data]     /root/nltk_data...\n",
            "[nltk_data]   Unzipping taggers/averaged_perceptron_tagger.zip.\n"
          ],
          "name": "stdout"
        },
        {
          "output_type": "execute_result",
          "data": {
            "text/plain": [
              "True"
            ]
          },
          "metadata": {
            "tags": []
          },
          "execution_count": 5
        }
      ]
    },
    {
      "cell_type": "code",
      "metadata": {
        "id": "OoftYUyrydtD",
        "colab": {
          "base_uri": "https://localhost:8080/"
        },
        "outputId": "2546b328-9c56-435a-ecfb-36d01b981286"
      },
      "source": [
        "nltk.download('stopwords')"
      ],
      "execution_count": 6,
      "outputs": [
        {
          "output_type": "stream",
          "text": [
            "[nltk_data] Downloading package stopwords to /root/nltk_data...\n",
            "[nltk_data]   Unzipping corpora/stopwords.zip.\n"
          ],
          "name": "stdout"
        },
        {
          "output_type": "execute_result",
          "data": {
            "text/plain": [
              "True"
            ]
          },
          "metadata": {
            "tags": []
          },
          "execution_count": 6
        }
      ]
    },
    {
      "cell_type": "code",
      "metadata": {
        "id": "zi9OssS7zixv"
      },
      "source": [
        "from chatterbot.trainers import ListTrainer"
      ],
      "execution_count": 7,
      "outputs": []
    },
    {
      "cell_type": "code",
      "metadata": {
        "id": "ZpNKfP-F0IWR",
        "colab": {
          "base_uri": "https://localhost:8080/"
        },
        "outputId": "5ae7c694-ac8b-4bcd-950c-837ee2a28594"
      },
      "source": [
        "trainer=ListTrainer(bot)\n",
        "greet_conversation = [\n",
        "    'Hi',\n",
        "    'Hello',\n",
        "     'hii',\n",
        "     'hii good to see you again',\n",
        "     'hi',\n",
        "     'Hi',\n",
        "     'Hey',\n",
        "     'Hello',\n",
        "     'Hello',\n",
        "     'Hi How can I help you',\n",
        "     'where are you',\n",
        "     'i am everywhere',\n",
        "     'where are you from',\n",
        "     'I am everywhere to provide service for you',\n",
        "     'any restuarant near to your location',\n",
        "     'yes Avenue Road, 3rd phase Banglore',\n",
        "     'How are you',\n",
        "     'I am fine How can I help you??',\n",
        "    'I need your assistance regarding my order',\n",
        "    'Please, Provide me with your order id',\n",
        "     'Good morning',\n",
        "     'Good day',\n",
        "     'Good afternoon',\n",
        "     'Good day',\n",
        "     'Good evening',\n",
        "     \"good day\",\n",
        "     'Good night',\n",
        "     \"have a great sleep\",\n",
        "     'Order number',\n",
        "     'It will reach you soon'\n",
        "     'Track my order',\n",
        "     'Its on your way',\n",
        "     'Please track my order',\n",
        "     'Its on the way',\n",
        "    'I have a complaint.',\n",
        "    'Please elaborate, your concern',\n",
        "    'How long it will take to receive an order ?',\n",
        "    'An order takes 3-5 Business days to get delivered.',\n",
        "    'Okay Thanks',\n",
        "    'No Problem! Have a Good Day!',\n",
        "     'Thanks',\n",
        "     'Its my pleasure',\n",
        "     'Thank you',\n",
        "     'Have a nice day',\n",
        "     'thank you so much',\n",
        "     'No mention have a great day '\n",
        "]\n",
        "\n",
        "open_timings_conversation = [\n",
        "    'Track my order',\n",
        "     'Its on your way',\n",
        "     'Please track my order',\n",
        "     'Its on the way',\n",
        "    'I have a complaint.',\n",
        "    'Please elaborate, your concern',\n",
        "    'How long it will take to receive an order ?',\n",
        "    'An order takes 3-5 Business days to get delivered.',\n",
        "    'I need your assistance regarding my order',\n",
        "    'I am pleased to help you always',\n",
        "   \n",
        "]\n",
        "\n",
        "thank_conversation =[\n",
        "    \n",
        "    'Okay Thanks',\n",
        "    'No Problem! Have a Good Day!',\n",
        "     'Thanks',\n",
        "     'Its my pleasure',\n",
        "     'Thank you',\n",
        "     'Have a nice day',\n",
        "     'thank you so much',\n",
        "     'No mention have a great day '\n",
        "   ]\n",
        "\n",
        "trainer.train(greet_conversation)\n",
        "trainer.train(open_timings_conversation)\n",
        "trainer.train(thank_conversation)"
      ],
      "execution_count": 8,
      "outputs": [
        {
          "output_type": "stream",
          "text": [
            "List Trainer: [####################] 100%\n",
            "List Trainer: [####################] 100%\n",
            "List Trainer: [####################] 100%\n"
          ],
          "name": "stdout"
        }
      ]
    },
    {
      "cell_type": "code",
      "metadata": {
        "id": "Fv8gmUGk020F",
        "colab": {
          "base_uri": "https://localhost:8080/"
        },
        "outputId": "01ddf2c3-385b-4b9c-e80f-3e9fa7ad113a"
      },
      "source": [
        "response = bot.get_response('I have a complaint.')\n",
        "\n",
        "print(\"Bot Response:\", response)"
      ],
      "execution_count": 9,
      "outputs": [
        {
          "output_type": "stream",
          "text": [
            "Bot Response: Please elaborate, your concern\n"
          ],
          "name": "stdout"
        }
      ]
    },
    {
      "cell_type": "code",
      "metadata": {
        "id": "xFniVnpz1FRK",
        "colab": {
          "base_uri": "https://localhost:8080/"
        },
        "outputId": "53a0fa70-311b-47b1-dc23-df4bfbbd8100"
      },
      "source": [
        "name=input(\"Enter your name here \")\n",
        "print(\"Welcome to the Bot Service! Let me know how can I help you?\")\n",
        "while True:\n",
        "    request=input(name+ ':')\n",
        "    if request=='Bye' or request =='bye' or request =='Byr' or request == 'byr':\n",
        "        print('Bot: Bye')\n",
        "        break\n",
        "    else:\n",
        "        response=bot.get_response(request)\n",
        "        print('Bot:',response)"
      ],
      "execution_count": 11,
      "outputs": [
        {
          "output_type": "stream",
          "text": [
            "Enter your name here Bhoomi \n",
            "Welcome to the Bot Service! Let me know how can I help you?\n",
            "Bhoomi :Hello\n",
            "Bot: hii\n",
            "Bhoomi :how are you\n",
            "Bot: i am everywhere\n",
            "Bhoomi :I need a help\n",
            "Bot: No Problem! Have a Good Day!\n",
            "Bhoomi :I have a complaint\n",
            "Bot: Please elaborate, your concern\n",
            "Bhoomi :Thanks\n",
            "Bot: Its my pleasure\n",
            "Bhoomi :Good morning\n",
            "Bot: Good day\n",
            "Bhoomi :Bye\n",
            "Bot: Bye\n"
          ],
          "name": "stdout"
        }
      ]
    },
    {
      "cell_type": "code",
      "metadata": {
        "id": "mQa0dW0XBjA6"
      },
      "source": [
        ""
      ],
      "execution_count": null,
      "outputs": []
    }
  ]
}